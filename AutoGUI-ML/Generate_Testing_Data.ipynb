{
 "cells": [
  {
   "cell_type": "code",
   "execution_count": 2,
   "metadata": {},
   "outputs": [
    {
     "name": "stdout",
     "output_type": "stream",
     "text": [
      "All screnshots taken.\n"
     ]
    }
   ],
   "source": [
    "import tkinter as tk\n",
    "from tkinter import font\n",
    "import pyautogui\n",
    "import csv\n",
    "import random\n",
    "\n",
    "global screenshot_counter\n",
    "screenshot_counter = 0\n",
    "\n",
    "# Generate a random 4 character string\n",
    "\n",
    "def generate_random_string():\n",
    "    random_string = ''.join(random.choices('0123456789', k=4))  # Only numbers\n",
    "    # random_string = ''.join(random.choices('abcdefghijklmnopqrstuvwxyzABCDEFGHIJKLMNOPQRSTUVWXYZ0123456789', k=4))    #Alpha numeric\n",
    "    return random_string\n",
    "\n",
    "# Take a screenshot and save it to a file\n",
    "\n",
    "def take_screenshot():\n",
    "\n",
    "    random_string = generate_random_string()\n",
    "\n",
    "    root = tk.Tk()\n",
    "    root.title(\"Screenshot\")\n",
    "    # root.withdraw()\n",
    "\n",
    "    # Select a random font and size\n",
    "\n",
    "    font_family = random.choice(font.families())\n",
    "    font_size = random.randint(8, 30)\n",
    "\n",
    "    # Set the font and size\n",
    "\n",
    "    text_box = tk.Text(root, font=(font_family, font_size))\n",
    "    text_box.pack()\n",
    "    text_box.insert(tk.END, random_string)\n",
    "\n",
    "    # Get the screenshot and save it to a file\n",
    "\n",
    "    screenshot = pyautogui.screenshot()\n",
    "    global screenshot_counter\n",
    "\n",
    "    screenshot.save(\"SS{}.png\".format(screenshot_counter))\n",
    "\n",
    "    screenshot_counter += 1\n",
    "\n",
    "    root.destroy()\n",
    "\n",
    "    # Save screenshot info in a CSV file\n",
    "\n",
    "    with open('screenshot_info.csv', 'a', newline='') as file:\n",
    "        writer = csv.writer(file)\n",
    "        writer.writerow([random_string, font_family, font_size])\n",
    "\n",
    "# Run the loop n times\n",
    "\n",
    "n = 10\n",
    "\n",
    "for i in range(n):\n",
    "    take_screenshot()\n",
    "\n",
    "print(\"All screnshots taken.\")"
   ]
  },
  {
   "cell_type": "code",
   "execution_count": null,
   "metadata": {},
   "outputs": [],
   "source": []
  }
 ],
 "metadata": {
  "kernelspec": {
   "display_name": "Python 3",
   "language": "python",
   "name": "python3"
  },
  "language_info": {
   "codemirror_mode": {
    "name": "ipython",
    "version": 3
   },
   "file_extension": ".py",
   "mimetype": "text/x-python",
   "name": "python",
   "nbconvert_exporter": "python",
   "pygments_lexer": "ipython3",
   "version": "3.12.1"
  }
 },
 "nbformat": 4,
 "nbformat_minor": 2
}
